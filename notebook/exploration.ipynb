{
 "cells": [
  {
   "cell_type": "code",
   "execution_count": 7,
   "id": "061ea0fe-e288-4f7a-a0ca-a346abe0b35c",
   "metadata": {},
   "outputs": [],
   "source": [
    "PATH_ = '/root/data/NYU_dataset/depthbin/NYUtrain/NYU0007_0000.bin'"
   ]
  },
  {
   "cell_type": "code",
   "execution_count": 9,
   "id": "333e8db1-b74b-4de3-9cc2-ad513efd5a97",
   "metadata": {},
   "outputs": [],
   "source": [
    "# import os \n",
    "# os.listdir(PATH_)"
   ]
  },
  {
   "cell_type": "code",
   "execution_count": 10,
   "id": "a1a4e747-f8f1-4c9d-a1ed-c3acb4ceec58",
   "metadata": {},
   "outputs": [
    {
     "name": "stdout",
     "output_type": "stream",
     "text": [
      "151\n"
     ]
    }
   ],
   "source": [
    "with open(PATH_,\"rb\") as f:\n",
    "    data = f.read()\n",
    "    \n",
    "print(data[2])"
   ]
  },
  {
   "cell_type": "code",
   "execution_count": 12,
   "id": "a0080190-9c9e-4632-8c3e-3fbce835700d",
   "metadata": {},
   "outputs": [
    {
     "data": {
      "text/plain": [
       "1122108"
      ]
     },
     "execution_count": 12,
     "metadata": {},
     "output_type": "execute_result"
    }
   ],
   "source": [
    "len(data)"
   ]
  },
  {
   "cell_type": "code",
   "execution_count": null,
   "id": "6aae7b68-25b6-4f6b-805c-41ea29e9de87",
   "metadata": {},
   "outputs": [],
   "source": []
  }
 ],
 "metadata": {
  "kernelspec": {
   "display_name": "Python 3",
   "language": "python",
   "name": "python3"
  },
  "language_info": {
   "codemirror_mode": {
    "name": "ipython",
    "version": 3
   },
   "file_extension": ".py",
   "mimetype": "text/x-python",
   "name": "python",
   "nbconvert_exporter": "python",
   "pygments_lexer": "ipython3",
   "version": "3.9.5"
  }
 },
 "nbformat": 4,
 "nbformat_minor": 5
}
